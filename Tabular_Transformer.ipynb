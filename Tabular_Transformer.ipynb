{
  "nbformat": 4,
  "nbformat_minor": 0,
  "metadata": {
    "colab": {
      "provenance": [],
      "gpuType": "T4"
    },
    "kernelspec": {
      "name": "python3",
      "display_name": "Python 3"
    },
    "language_info": {
      "name": "python"
    },
    "accelerator": "GPU"
  },
  "cells": [
    {
      "cell_type": "markdown",
      "source": [
        "# Import library"
      ],
      "metadata": {
        "id": "IZnydtR-eMX5"
      }
    },
    {
      "cell_type": "code",
      "source": [
        "!pip uninstall keras keras-core tensorflow -y -q\n",
        "!pip install tensorflow==2.15.0 -q"
      ],
      "metadata": {
        "colab": {
          "base_uri": "https://localhost:8080/"
        },
        "id": "gIeI1Yx8DeXs",
        "outputId": "3be5d76d-430f-45e9-b859-b60542965a54"
      },
      "execution_count": 3,
      "outputs": [
        {
          "output_type": "stream",
          "name": "stdout",
          "text": [
            "\u001b[33mWARNING: Skipping keras as it is not installed.\u001b[0m\u001b[33m\n",
            "\u001b[0m\u001b[33mWARNING: Skipping keras-core as it is not installed.\u001b[0m\u001b[33m\n",
            "\u001b[2K     \u001b[90m━━━━━━━━━━━━━━━━━━━━━━━━━━━━━━━━━━━━━━━━\u001b[0m \u001b[32m61.0/61.0 kB\u001b[0m \u001b[31m4.6 MB/s\u001b[0m eta \u001b[36m0:00:00\u001b[0m\n",
            "\u001b[2K   \u001b[90m━━━━━━━━━━━━━━━━━━━━━━━━━━━━━━━━━━━━━━━━\u001b[0m \u001b[32m475.3/475.3 MB\u001b[0m \u001b[31m3.8 MB/s\u001b[0m eta \u001b[36m0:00:00\u001b[0m\n",
            "\u001b[2K   \u001b[90m━━━━━━━━━━━━━━━━━━━━━━━━━━━━━━━━━━━━━━━━\u001b[0m \u001b[32m1.7/1.7 MB\u001b[0m \u001b[31m73.1 MB/s\u001b[0m eta \u001b[36m0:00:00\u001b[0m\n",
            "\u001b[2K   \u001b[90m━━━━━━━━━━━━━━━━━━━━━━━━━━━━━━━━━━━━━━━━\u001b[0m \u001b[32m1.0/1.0 MB\u001b[0m \u001b[31m57.3 MB/s\u001b[0m eta \u001b[36m0:00:00\u001b[0m\n",
            "\u001b[2K   \u001b[90m━━━━━━━━━━━━━━━━━━━━━━━━━━━━━━━━━━━━━━━━\u001b[0m \u001b[32m18.3/18.3 MB\u001b[0m \u001b[31m98.4 MB/s\u001b[0m eta \u001b[36m0:00:00\u001b[0m\n",
            "\u001b[2K   \u001b[90m━━━━━━━━━━━━━━━━━━━━━━━━━━━━━━━━━━━━━━━━\u001b[0m \u001b[32m294.6/294.6 kB\u001b[0m \u001b[31m23.5 MB/s\u001b[0m eta \u001b[36m0:00:00\u001b[0m\n",
            "\u001b[2K   \u001b[90m━━━━━━━━━━━━━━━━━━━━━━━━━━━━━━━━━━━━━━━━\u001b[0m \u001b[32m5.5/5.5 MB\u001b[0m \u001b[31m103.2 MB/s\u001b[0m eta \u001b[36m0:00:00\u001b[0m\n",
            "\u001b[2K   \u001b[90m━━━━━━━━━━━━━━━━━━━━━━━━━━━━━━━━━━━━━━━━\u001b[0m \u001b[32m442.0/442.0 kB\u001b[0m \u001b[31m34.5 MB/s\u001b[0m eta \u001b[36m0:00:00\u001b[0m\n",
            "\u001b[2K   \u001b[90m━━━━━━━━━━━━━━━━━━━━━━━━━━━━━━━━━━━━━━━━\u001b[0m \u001b[32m78.4/78.4 kB\u001b[0m \u001b[31m7.9 MB/s\u001b[0m eta \u001b[36m0:00:00\u001b[0m\n",
            "\u001b[?25h\u001b[31mERROR: pip's dependency resolver does not currently take into account all the packages that are installed. This behaviour is the source of the following dependency conflicts.\n",
            "tensorstore 0.1.72 requires ml_dtypes>=0.3.1, but you have ml-dtypes 0.2.0 which is incompatible.\n",
            "tf-keras 2.18.0 requires tensorflow<2.19,>=2.18, but you have tensorflow 2.15.0 which is incompatible.\n",
            "jax 0.5.2 requires ml_dtypes>=0.4.0, but you have ml-dtypes 0.2.0 which is incompatible.\n",
            "grpcio-status 1.71.0 requires protobuf<6.0dev,>=5.26.1, but you have protobuf 4.25.6 which is incompatible.\n",
            "tensorflow-text 2.18.1 requires tensorflow<2.19,>=2.18.0, but you have tensorflow 2.15.0 which is incompatible.\u001b[0m\u001b[31m\n",
            "\u001b[0m"
          ]
        }
      ]
    },
    {
      "cell_type": "code",
      "execution_count": 1,
      "metadata": {
        "id": "F78b3FuhdCL1"
      },
      "outputs": [],
      "source": [
        "import pandas as pd\n",
        "import numpy as np\n",
        "from matplotlib.pyplot import plot as plt\n",
        "from sklearn.model_selection import train_test_split\n",
        "from sklearn.pipeline import Pipeline\n",
        "from sklearn.metrics import f1_score, confusion_matrix, ConfusionMatrixDisplay\n",
        "\n",
        "import tensorflow as tf\n",
        "from tensorflow.keras import layers\n",
        "from tensorflow.keras.models import Sequential"
      ]
    },
    {
      "cell_type": "code",
      "source": [
        "import warnings\n",
        "warnings.filterwarnings('ignore')"
      ],
      "metadata": {
        "id": "EEJP21TceWiG"
      },
      "execution_count": 2,
      "outputs": []
    },
    {
      "cell_type": "markdown",
      "source": [
        "# Đọc và Hiểu bộ dữ liệu hiện có (Phát hiện gian lận trong thẻ tín dụng)"
      ],
      "metadata": {
        "id": "qKAcBydJfFxn"
      }
    },
    {
      "cell_type": "code",
      "source": [
        "df = pd.read_csv('creditcard.csv')"
      ],
      "metadata": {
        "id": "mEmMMLvfgF9l"
      },
      "execution_count": 3,
      "outputs": []
    },
    {
      "cell_type": "code",
      "source": [
        "df.head()"
      ],
      "metadata": {
        "colab": {
          "base_uri": "https://localhost:8080/",
          "height": 256
        },
        "id": "zAXRPir1gI-t",
        "outputId": "3b5c05e5-e9cb-4146-fb9e-dd862557b711"
      },
      "execution_count": 4,
      "outputs": [
        {
          "output_type": "execute_result",
          "data": {
            "text/plain": [
              "   Time        V1        V2        V3        V4        V5        V6        V7  \\\n",
              "0   0.0 -1.359807 -0.072781  2.536347  1.378155 -0.338321  0.462388  0.239599   \n",
              "1   0.0  1.191857  0.266151  0.166480  0.448154  0.060018 -0.082361 -0.078803   \n",
              "2   1.0 -1.358354 -1.340163  1.773209  0.379780 -0.503198  1.800499  0.791461   \n",
              "3   1.0 -0.966272 -0.185226  1.792993 -0.863291 -0.010309  1.247203  0.237609   \n",
              "4   2.0 -1.158233  0.877737  1.548718  0.403034 -0.407193  0.095921  0.592941   \n",
              "\n",
              "         V8        V9  ...       V21       V22       V23       V24       V25  \\\n",
              "0  0.098698  0.363787  ... -0.018307  0.277838 -0.110474  0.066928  0.128539   \n",
              "1  0.085102 -0.255425  ... -0.225775 -0.638672  0.101288 -0.339846  0.167170   \n",
              "2  0.247676 -1.514654  ...  0.247998  0.771679  0.909412 -0.689281 -0.327642   \n",
              "3  0.377436 -1.387024  ... -0.108300  0.005274 -0.190321 -1.175575  0.647376   \n",
              "4 -0.270533  0.817739  ... -0.009431  0.798278 -0.137458  0.141267 -0.206010   \n",
              "\n",
              "        V26       V27       V28  Amount  Class  \n",
              "0 -0.189115  0.133558 -0.021053  149.62      0  \n",
              "1  0.125895 -0.008983  0.014724    2.69      0  \n",
              "2 -0.139097 -0.055353 -0.059752  378.66      0  \n",
              "3 -0.221929  0.062723  0.061458  123.50      0  \n",
              "4  0.502292  0.219422  0.215153   69.99      0  \n",
              "\n",
              "[5 rows x 31 columns]"
            ],
            "text/html": [
              "\n",
              "  <div id=\"df-9ccbd9cd-60ae-4975-91d6-a0c5aab76105\" class=\"colab-df-container\">\n",
              "    <div>\n",
              "<style scoped>\n",
              "    .dataframe tbody tr th:only-of-type {\n",
              "        vertical-align: middle;\n",
              "    }\n",
              "\n",
              "    .dataframe tbody tr th {\n",
              "        vertical-align: top;\n",
              "    }\n",
              "\n",
              "    .dataframe thead th {\n",
              "        text-align: right;\n",
              "    }\n",
              "</style>\n",
              "<table border=\"1\" class=\"dataframe\">\n",
              "  <thead>\n",
              "    <tr style=\"text-align: right;\">\n",
              "      <th></th>\n",
              "      <th>Time</th>\n",
              "      <th>V1</th>\n",
              "      <th>V2</th>\n",
              "      <th>V3</th>\n",
              "      <th>V4</th>\n",
              "      <th>V5</th>\n",
              "      <th>V6</th>\n",
              "      <th>V7</th>\n",
              "      <th>V8</th>\n",
              "      <th>V9</th>\n",
              "      <th>...</th>\n",
              "      <th>V21</th>\n",
              "      <th>V22</th>\n",
              "      <th>V23</th>\n",
              "      <th>V24</th>\n",
              "      <th>V25</th>\n",
              "      <th>V26</th>\n",
              "      <th>V27</th>\n",
              "      <th>V28</th>\n",
              "      <th>Amount</th>\n",
              "      <th>Class</th>\n",
              "    </tr>\n",
              "  </thead>\n",
              "  <tbody>\n",
              "    <tr>\n",
              "      <th>0</th>\n",
              "      <td>0.0</td>\n",
              "      <td>-1.359807</td>\n",
              "      <td>-0.072781</td>\n",
              "      <td>2.536347</td>\n",
              "      <td>1.378155</td>\n",
              "      <td>-0.338321</td>\n",
              "      <td>0.462388</td>\n",
              "      <td>0.239599</td>\n",
              "      <td>0.098698</td>\n",
              "      <td>0.363787</td>\n",
              "      <td>...</td>\n",
              "      <td>-0.018307</td>\n",
              "      <td>0.277838</td>\n",
              "      <td>-0.110474</td>\n",
              "      <td>0.066928</td>\n",
              "      <td>0.128539</td>\n",
              "      <td>-0.189115</td>\n",
              "      <td>0.133558</td>\n",
              "      <td>-0.021053</td>\n",
              "      <td>149.62</td>\n",
              "      <td>0</td>\n",
              "    </tr>\n",
              "    <tr>\n",
              "      <th>1</th>\n",
              "      <td>0.0</td>\n",
              "      <td>1.191857</td>\n",
              "      <td>0.266151</td>\n",
              "      <td>0.166480</td>\n",
              "      <td>0.448154</td>\n",
              "      <td>0.060018</td>\n",
              "      <td>-0.082361</td>\n",
              "      <td>-0.078803</td>\n",
              "      <td>0.085102</td>\n",
              "      <td>-0.255425</td>\n",
              "      <td>...</td>\n",
              "      <td>-0.225775</td>\n",
              "      <td>-0.638672</td>\n",
              "      <td>0.101288</td>\n",
              "      <td>-0.339846</td>\n",
              "      <td>0.167170</td>\n",
              "      <td>0.125895</td>\n",
              "      <td>-0.008983</td>\n",
              "      <td>0.014724</td>\n",
              "      <td>2.69</td>\n",
              "      <td>0</td>\n",
              "    </tr>\n",
              "    <tr>\n",
              "      <th>2</th>\n",
              "      <td>1.0</td>\n",
              "      <td>-1.358354</td>\n",
              "      <td>-1.340163</td>\n",
              "      <td>1.773209</td>\n",
              "      <td>0.379780</td>\n",
              "      <td>-0.503198</td>\n",
              "      <td>1.800499</td>\n",
              "      <td>0.791461</td>\n",
              "      <td>0.247676</td>\n",
              "      <td>-1.514654</td>\n",
              "      <td>...</td>\n",
              "      <td>0.247998</td>\n",
              "      <td>0.771679</td>\n",
              "      <td>0.909412</td>\n",
              "      <td>-0.689281</td>\n",
              "      <td>-0.327642</td>\n",
              "      <td>-0.139097</td>\n",
              "      <td>-0.055353</td>\n",
              "      <td>-0.059752</td>\n",
              "      <td>378.66</td>\n",
              "      <td>0</td>\n",
              "    </tr>\n",
              "    <tr>\n",
              "      <th>3</th>\n",
              "      <td>1.0</td>\n",
              "      <td>-0.966272</td>\n",
              "      <td>-0.185226</td>\n",
              "      <td>1.792993</td>\n",
              "      <td>-0.863291</td>\n",
              "      <td>-0.010309</td>\n",
              "      <td>1.247203</td>\n",
              "      <td>0.237609</td>\n",
              "      <td>0.377436</td>\n",
              "      <td>-1.387024</td>\n",
              "      <td>...</td>\n",
              "      <td>-0.108300</td>\n",
              "      <td>0.005274</td>\n",
              "      <td>-0.190321</td>\n",
              "      <td>-1.175575</td>\n",
              "      <td>0.647376</td>\n",
              "      <td>-0.221929</td>\n",
              "      <td>0.062723</td>\n",
              "      <td>0.061458</td>\n",
              "      <td>123.50</td>\n",
              "      <td>0</td>\n",
              "    </tr>\n",
              "    <tr>\n",
              "      <th>4</th>\n",
              "      <td>2.0</td>\n",
              "      <td>-1.158233</td>\n",
              "      <td>0.877737</td>\n",
              "      <td>1.548718</td>\n",
              "      <td>0.403034</td>\n",
              "      <td>-0.407193</td>\n",
              "      <td>0.095921</td>\n",
              "      <td>0.592941</td>\n",
              "      <td>-0.270533</td>\n",
              "      <td>0.817739</td>\n",
              "      <td>...</td>\n",
              "      <td>-0.009431</td>\n",
              "      <td>0.798278</td>\n",
              "      <td>-0.137458</td>\n",
              "      <td>0.141267</td>\n",
              "      <td>-0.206010</td>\n",
              "      <td>0.502292</td>\n",
              "      <td>0.219422</td>\n",
              "      <td>0.215153</td>\n",
              "      <td>69.99</td>\n",
              "      <td>0</td>\n",
              "    </tr>\n",
              "  </tbody>\n",
              "</table>\n",
              "<p>5 rows × 31 columns</p>\n",
              "</div>\n",
              "    <div class=\"colab-df-buttons\">\n",
              "\n",
              "  <div class=\"colab-df-container\">\n",
              "    <button class=\"colab-df-convert\" onclick=\"convertToInteractive('df-9ccbd9cd-60ae-4975-91d6-a0c5aab76105')\"\n",
              "            title=\"Convert this dataframe to an interactive table.\"\n",
              "            style=\"display:none;\">\n",
              "\n",
              "  <svg xmlns=\"http://www.w3.org/2000/svg\" height=\"24px\" viewBox=\"0 -960 960 960\">\n",
              "    <path d=\"M120-120v-720h720v720H120Zm60-500h600v-160H180v160Zm220 220h160v-160H400v160Zm0 220h160v-160H400v160ZM180-400h160v-160H180v160Zm440 0h160v-160H620v160ZM180-180h160v-160H180v160Zm440 0h160v-160H620v160Z\"/>\n",
              "  </svg>\n",
              "    </button>\n",
              "\n",
              "  <style>\n",
              "    .colab-df-container {\n",
              "      display:flex;\n",
              "      gap: 12px;\n",
              "    }\n",
              "\n",
              "    .colab-df-convert {\n",
              "      background-color: #E8F0FE;\n",
              "      border: none;\n",
              "      border-radius: 50%;\n",
              "      cursor: pointer;\n",
              "      display: none;\n",
              "      fill: #1967D2;\n",
              "      height: 32px;\n",
              "      padding: 0 0 0 0;\n",
              "      width: 32px;\n",
              "    }\n",
              "\n",
              "    .colab-df-convert:hover {\n",
              "      background-color: #E2EBFA;\n",
              "      box-shadow: 0px 1px 2px rgba(60, 64, 67, 0.3), 0px 1px 3px 1px rgba(60, 64, 67, 0.15);\n",
              "      fill: #174EA6;\n",
              "    }\n",
              "\n",
              "    .colab-df-buttons div {\n",
              "      margin-bottom: 4px;\n",
              "    }\n",
              "\n",
              "    [theme=dark] .colab-df-convert {\n",
              "      background-color: #3B4455;\n",
              "      fill: #D2E3FC;\n",
              "    }\n",
              "\n",
              "    [theme=dark] .colab-df-convert:hover {\n",
              "      background-color: #434B5C;\n",
              "      box-shadow: 0px 1px 3px 1px rgba(0, 0, 0, 0.15);\n",
              "      filter: drop-shadow(0px 1px 2px rgba(0, 0, 0, 0.3));\n",
              "      fill: #FFFFFF;\n",
              "    }\n",
              "  </style>\n",
              "\n",
              "    <script>\n",
              "      const buttonEl =\n",
              "        document.querySelector('#df-9ccbd9cd-60ae-4975-91d6-a0c5aab76105 button.colab-df-convert');\n",
              "      buttonEl.style.display =\n",
              "        google.colab.kernel.accessAllowed ? 'block' : 'none';\n",
              "\n",
              "      async function convertToInteractive(key) {\n",
              "        const element = document.querySelector('#df-9ccbd9cd-60ae-4975-91d6-a0c5aab76105');\n",
              "        const dataTable =\n",
              "          await google.colab.kernel.invokeFunction('convertToInteractive',\n",
              "                                                    [key], {});\n",
              "        if (!dataTable) return;\n",
              "\n",
              "        const docLinkHtml = 'Like what you see? Visit the ' +\n",
              "          '<a target=\"_blank\" href=https://colab.research.google.com/notebooks/data_table.ipynb>data table notebook</a>'\n",
              "          + ' to learn more about interactive tables.';\n",
              "        element.innerHTML = '';\n",
              "        dataTable['output_type'] = 'display_data';\n",
              "        await google.colab.output.renderOutput(dataTable, element);\n",
              "        const docLink = document.createElement('div');\n",
              "        docLink.innerHTML = docLinkHtml;\n",
              "        element.appendChild(docLink);\n",
              "      }\n",
              "    </script>\n",
              "  </div>\n",
              "\n",
              "\n",
              "<div id=\"df-29f55cab-7de5-4257-ad25-0321283061fc\">\n",
              "  <button class=\"colab-df-quickchart\" onclick=\"quickchart('df-29f55cab-7de5-4257-ad25-0321283061fc')\"\n",
              "            title=\"Suggest charts\"\n",
              "            style=\"display:none;\">\n",
              "\n",
              "<svg xmlns=\"http://www.w3.org/2000/svg\" height=\"24px\"viewBox=\"0 0 24 24\"\n",
              "     width=\"24px\">\n",
              "    <g>\n",
              "        <path d=\"M19 3H5c-1.1 0-2 .9-2 2v14c0 1.1.9 2 2 2h14c1.1 0 2-.9 2-2V5c0-1.1-.9-2-2-2zM9 17H7v-7h2v7zm4 0h-2V7h2v10zm4 0h-2v-4h2v4z\"/>\n",
              "    </g>\n",
              "</svg>\n",
              "  </button>\n",
              "\n",
              "<style>\n",
              "  .colab-df-quickchart {\n",
              "      --bg-color: #E8F0FE;\n",
              "      --fill-color: #1967D2;\n",
              "      --hover-bg-color: #E2EBFA;\n",
              "      --hover-fill-color: #174EA6;\n",
              "      --disabled-fill-color: #AAA;\n",
              "      --disabled-bg-color: #DDD;\n",
              "  }\n",
              "\n",
              "  [theme=dark] .colab-df-quickchart {\n",
              "      --bg-color: #3B4455;\n",
              "      --fill-color: #D2E3FC;\n",
              "      --hover-bg-color: #434B5C;\n",
              "      --hover-fill-color: #FFFFFF;\n",
              "      --disabled-bg-color: #3B4455;\n",
              "      --disabled-fill-color: #666;\n",
              "  }\n",
              "\n",
              "  .colab-df-quickchart {\n",
              "    background-color: var(--bg-color);\n",
              "    border: none;\n",
              "    border-radius: 50%;\n",
              "    cursor: pointer;\n",
              "    display: none;\n",
              "    fill: var(--fill-color);\n",
              "    height: 32px;\n",
              "    padding: 0;\n",
              "    width: 32px;\n",
              "  }\n",
              "\n",
              "  .colab-df-quickchart:hover {\n",
              "    background-color: var(--hover-bg-color);\n",
              "    box-shadow: 0 1px 2px rgba(60, 64, 67, 0.3), 0 1px 3px 1px rgba(60, 64, 67, 0.15);\n",
              "    fill: var(--button-hover-fill-color);\n",
              "  }\n",
              "\n",
              "  .colab-df-quickchart-complete:disabled,\n",
              "  .colab-df-quickchart-complete:disabled:hover {\n",
              "    background-color: var(--disabled-bg-color);\n",
              "    fill: var(--disabled-fill-color);\n",
              "    box-shadow: none;\n",
              "  }\n",
              "\n",
              "  .colab-df-spinner {\n",
              "    border: 2px solid var(--fill-color);\n",
              "    border-color: transparent;\n",
              "    border-bottom-color: var(--fill-color);\n",
              "    animation:\n",
              "      spin 1s steps(1) infinite;\n",
              "  }\n",
              "\n",
              "  @keyframes spin {\n",
              "    0% {\n",
              "      border-color: transparent;\n",
              "      border-bottom-color: var(--fill-color);\n",
              "      border-left-color: var(--fill-color);\n",
              "    }\n",
              "    20% {\n",
              "      border-color: transparent;\n",
              "      border-left-color: var(--fill-color);\n",
              "      border-top-color: var(--fill-color);\n",
              "    }\n",
              "    30% {\n",
              "      border-color: transparent;\n",
              "      border-left-color: var(--fill-color);\n",
              "      border-top-color: var(--fill-color);\n",
              "      border-right-color: var(--fill-color);\n",
              "    }\n",
              "    40% {\n",
              "      border-color: transparent;\n",
              "      border-right-color: var(--fill-color);\n",
              "      border-top-color: var(--fill-color);\n",
              "    }\n",
              "    60% {\n",
              "      border-color: transparent;\n",
              "      border-right-color: var(--fill-color);\n",
              "    }\n",
              "    80% {\n",
              "      border-color: transparent;\n",
              "      border-right-color: var(--fill-color);\n",
              "      border-bottom-color: var(--fill-color);\n",
              "    }\n",
              "    90% {\n",
              "      border-color: transparent;\n",
              "      border-bottom-color: var(--fill-color);\n",
              "    }\n",
              "  }\n",
              "</style>\n",
              "\n",
              "  <script>\n",
              "    async function quickchart(key) {\n",
              "      const quickchartButtonEl =\n",
              "        document.querySelector('#' + key + ' button');\n",
              "      quickchartButtonEl.disabled = true;  // To prevent multiple clicks.\n",
              "      quickchartButtonEl.classList.add('colab-df-spinner');\n",
              "      try {\n",
              "        const charts = await google.colab.kernel.invokeFunction(\n",
              "            'suggestCharts', [key], {});\n",
              "      } catch (error) {\n",
              "        console.error('Error during call to suggestCharts:', error);\n",
              "      }\n",
              "      quickchartButtonEl.classList.remove('colab-df-spinner');\n",
              "      quickchartButtonEl.classList.add('colab-df-quickchart-complete');\n",
              "    }\n",
              "    (() => {\n",
              "      let quickchartButtonEl =\n",
              "        document.querySelector('#df-29f55cab-7de5-4257-ad25-0321283061fc button');\n",
              "      quickchartButtonEl.style.display =\n",
              "        google.colab.kernel.accessAllowed ? 'block' : 'none';\n",
              "    })();\n",
              "  </script>\n",
              "</div>\n",
              "\n",
              "    </div>\n",
              "  </div>\n"
            ],
            "application/vnd.google.colaboratory.intrinsic+json": {
              "type": "dataframe",
              "variable_name": "df"
            }
          },
          "metadata": {},
          "execution_count": 4
        }
      ]
    },
    {
      "cell_type": "code",
      "source": [
        "df.shape"
      ],
      "metadata": {
        "colab": {
          "base_uri": "https://localhost:8080/"
        },
        "id": "hmBvm4HCgLBV",
        "outputId": "2cbaf99b-0c05-4ec4-b7ab-9710db93e5d7"
      },
      "execution_count": 11,
      "outputs": [
        {
          "output_type": "execute_result",
          "data": {
            "text/plain": [
              "(284807, 31)"
            ]
          },
          "metadata": {},
          "execution_count": 11
        }
      ]
    },
    {
      "cell_type": "code",
      "source": [
        "df.isna().sum()"
      ],
      "metadata": {
        "colab": {
          "base_uri": "https://localhost:8080/",
          "height": 1000
        },
        "id": "lOgHhRZjjn79",
        "outputId": "499e5254-b678-47d2-bef4-9c7c7f0d561c"
      },
      "execution_count": 12,
      "outputs": [
        {
          "output_type": "execute_result",
          "data": {
            "text/plain": [
              "Time      0\n",
              "V1        0\n",
              "V2        0\n",
              "V3        0\n",
              "V4        0\n",
              "V5        0\n",
              "V6        0\n",
              "V7        0\n",
              "V8        0\n",
              "V9        0\n",
              "V10       0\n",
              "V11       0\n",
              "V12       0\n",
              "V13       0\n",
              "V14       0\n",
              "V15       0\n",
              "V16       0\n",
              "V17       0\n",
              "V18       0\n",
              "V19       0\n",
              "V20       0\n",
              "V21       0\n",
              "V22       0\n",
              "V23       0\n",
              "V24       0\n",
              "V25       0\n",
              "V26       0\n",
              "V27       0\n",
              "V28       0\n",
              "Amount    0\n",
              "Class     0\n",
              "dtype: int64"
            ],
            "text/html": [
              "<div>\n",
              "<style scoped>\n",
              "    .dataframe tbody tr th:only-of-type {\n",
              "        vertical-align: middle;\n",
              "    }\n",
              "\n",
              "    .dataframe tbody tr th {\n",
              "        vertical-align: top;\n",
              "    }\n",
              "\n",
              "    .dataframe thead th {\n",
              "        text-align: right;\n",
              "    }\n",
              "</style>\n",
              "<table border=\"1\" class=\"dataframe\">\n",
              "  <thead>\n",
              "    <tr style=\"text-align: right;\">\n",
              "      <th></th>\n",
              "      <th>0</th>\n",
              "    </tr>\n",
              "  </thead>\n",
              "  <tbody>\n",
              "    <tr>\n",
              "      <th>Time</th>\n",
              "      <td>0</td>\n",
              "    </tr>\n",
              "    <tr>\n",
              "      <th>V1</th>\n",
              "      <td>0</td>\n",
              "    </tr>\n",
              "    <tr>\n",
              "      <th>V2</th>\n",
              "      <td>0</td>\n",
              "    </tr>\n",
              "    <tr>\n",
              "      <th>V3</th>\n",
              "      <td>0</td>\n",
              "    </tr>\n",
              "    <tr>\n",
              "      <th>V4</th>\n",
              "      <td>0</td>\n",
              "    </tr>\n",
              "    <tr>\n",
              "      <th>V5</th>\n",
              "      <td>0</td>\n",
              "    </tr>\n",
              "    <tr>\n",
              "      <th>V6</th>\n",
              "      <td>0</td>\n",
              "    </tr>\n",
              "    <tr>\n",
              "      <th>V7</th>\n",
              "      <td>0</td>\n",
              "    </tr>\n",
              "    <tr>\n",
              "      <th>V8</th>\n",
              "      <td>0</td>\n",
              "    </tr>\n",
              "    <tr>\n",
              "      <th>V9</th>\n",
              "      <td>0</td>\n",
              "    </tr>\n",
              "    <tr>\n",
              "      <th>V10</th>\n",
              "      <td>0</td>\n",
              "    </tr>\n",
              "    <tr>\n",
              "      <th>V11</th>\n",
              "      <td>0</td>\n",
              "    </tr>\n",
              "    <tr>\n",
              "      <th>V12</th>\n",
              "      <td>0</td>\n",
              "    </tr>\n",
              "    <tr>\n",
              "      <th>V13</th>\n",
              "      <td>0</td>\n",
              "    </tr>\n",
              "    <tr>\n",
              "      <th>V14</th>\n",
              "      <td>0</td>\n",
              "    </tr>\n",
              "    <tr>\n",
              "      <th>V15</th>\n",
              "      <td>0</td>\n",
              "    </tr>\n",
              "    <tr>\n",
              "      <th>V16</th>\n",
              "      <td>0</td>\n",
              "    </tr>\n",
              "    <tr>\n",
              "      <th>V17</th>\n",
              "      <td>0</td>\n",
              "    </tr>\n",
              "    <tr>\n",
              "      <th>V18</th>\n",
              "      <td>0</td>\n",
              "    </tr>\n",
              "    <tr>\n",
              "      <th>V19</th>\n",
              "      <td>0</td>\n",
              "    </tr>\n",
              "    <tr>\n",
              "      <th>V20</th>\n",
              "      <td>0</td>\n",
              "    </tr>\n",
              "    <tr>\n",
              "      <th>V21</th>\n",
              "      <td>0</td>\n",
              "    </tr>\n",
              "    <tr>\n",
              "      <th>V22</th>\n",
              "      <td>0</td>\n",
              "    </tr>\n",
              "    <tr>\n",
              "      <th>V23</th>\n",
              "      <td>0</td>\n",
              "    </tr>\n",
              "    <tr>\n",
              "      <th>V24</th>\n",
              "      <td>0</td>\n",
              "    </tr>\n",
              "    <tr>\n",
              "      <th>V25</th>\n",
              "      <td>0</td>\n",
              "    </tr>\n",
              "    <tr>\n",
              "      <th>V26</th>\n",
              "      <td>0</td>\n",
              "    </tr>\n",
              "    <tr>\n",
              "      <th>V27</th>\n",
              "      <td>0</td>\n",
              "    </tr>\n",
              "    <tr>\n",
              "      <th>V28</th>\n",
              "      <td>0</td>\n",
              "    </tr>\n",
              "    <tr>\n",
              "      <th>Amount</th>\n",
              "      <td>0</td>\n",
              "    </tr>\n",
              "    <tr>\n",
              "      <th>Class</th>\n",
              "      <td>0</td>\n",
              "    </tr>\n",
              "  </tbody>\n",
              "</table>\n",
              "</div><br><label><b>dtype:</b> int64</label>"
            ]
          },
          "metadata": {},
          "execution_count": 12
        }
      ]
    },
    {
      "cell_type": "code",
      "source": [
        "df.duplicated().sum()"
      ],
      "metadata": {
        "colab": {
          "base_uri": "https://localhost:8080/"
        },
        "id": "9E7-rT9Zjqt0",
        "outputId": "851d3a6d-785d-4777-b13b-0c3a644e68ea"
      },
      "execution_count": 13,
      "outputs": [
        {
          "output_type": "execute_result",
          "data": {
            "text/plain": [
              "np.int64(1081)"
            ]
          },
          "metadata": {},
          "execution_count": 13
        }
      ]
    },
    {
      "cell_type": "code",
      "source": [
        "print(f\"Khoảng dao động trong các cột\")\n",
        "print(df.max() - df.min())"
      ],
      "metadata": {
        "colab": {
          "base_uri": "https://localhost:8080/"
        },
        "id": "K_3ad87SgNoD",
        "outputId": "5025f64a-458a-4788-e04a-44ad4ad3065c"
      },
      "execution_count": 14,
      "outputs": [
        {
          "output_type": "stream",
          "name": "stdout",
          "text": [
            "Khoảng dao động trong các cột\n",
            "Time      172792.000000\n",
            "V1            58.862440\n",
            "V2            94.773457\n",
            "V3            57.708148\n",
            "V4            22.558515\n",
            "V5           148.544973\n",
            "V6            99.462131\n",
            "V7           164.146736\n",
            "V8            93.223927\n",
            "V9            29.029061\n",
            "V10           48.333399\n",
            "V11           16.816387\n",
            "V12           26.532107\n",
            "V13           12.918764\n",
            "V14           29.741092\n",
            "V15           13.376686\n",
            "V16           31.444966\n",
            "V17           34.416326\n",
            "V18           14.539815\n",
            "V19           12.805499\n",
            "V20           93.918625\n",
            "V21           62.033221\n",
            "V22           21.436234\n",
            "V23           67.336147\n",
            "V24            7.421176\n",
            "V25           17.814986\n",
            "V26            6.121896\n",
            "V27           54.177877\n",
            "V28           49.277892\n",
            "Amount     25691.160000\n",
            "Class          1.000000\n",
            "dtype: float64\n"
          ]
        }
      ]
    },
    {
      "cell_type": "code",
      "source": [
        "print(f'Khoảng trung vị của từng cột')\n",
        "print(df.median())"
      ],
      "metadata": {
        "colab": {
          "base_uri": "https://localhost:8080/"
        },
        "id": "wbcNUyNWg6k_",
        "outputId": "9659b2b3-02f5-4c42-bc04-80dbab04c826"
      },
      "execution_count": 15,
      "outputs": [
        {
          "output_type": "stream",
          "name": "stdout",
          "text": [
            "Khoảng trung vị của từng cột\n",
            "Time      84692.000000\n",
            "V1            0.018109\n",
            "V2            0.065486\n",
            "V3            0.179846\n",
            "V4           -0.019847\n",
            "V5           -0.054336\n",
            "V6           -0.274187\n",
            "V7            0.040103\n",
            "V8            0.022358\n",
            "V9           -0.051429\n",
            "V10          -0.092917\n",
            "V11          -0.032757\n",
            "V12           0.140033\n",
            "V13          -0.013568\n",
            "V14           0.050601\n",
            "V15           0.048072\n",
            "V16           0.066413\n",
            "V17          -0.065676\n",
            "V18          -0.003636\n",
            "V19           0.003735\n",
            "V20          -0.062481\n",
            "V21          -0.029450\n",
            "V22           0.006782\n",
            "V23          -0.011193\n",
            "V24           0.040976\n",
            "V25           0.016594\n",
            "V26          -0.052139\n",
            "V27           0.001342\n",
            "V28           0.011244\n",
            "Amount       22.000000\n",
            "Class         0.000000\n",
            "dtype: float64\n"
          ]
        }
      ]
    },
    {
      "cell_type": "code",
      "source": [
        "total_fraud_transactions = sum(df['Class'] == 1)\n",
        "print(f\"Số lượng giao dịch gian lận: {total_fraud_transactions}\")\n",
        "print()\n",
        "print(f'Phần trăm số lượng giao dịch có gian lận trên tổng số: {round((total_fraud_transactions / df.size), 6) * 100}%')"
      ],
      "metadata": {
        "colab": {
          "base_uri": "https://localhost:8080/"
        },
        "id": "tUVAzEBZhNZ9",
        "outputId": "44fcdf72-30c9-455c-d386-9602f9c0b633"
      },
      "execution_count": 16,
      "outputs": [
        {
          "output_type": "stream",
          "name": "stdout",
          "text": [
            "Số lượng giao dịch gian lận: 492\n",
            "\n",
            "Phần trăm số lượng giao dịch có gian lận trên tổng số: 0.0056%\n"
          ]
        }
      ]
    },
    {
      "cell_type": "markdown",
      "source": [
        "# Xử lý dữ liệu trước khi train, vì có sự chênh lệch giữa hai lớp với nhau (normal - fraud)"
      ],
      "metadata": {
        "id": "z4zOlz2Bj92f"
      }
    },
    {
      "cell_type": "code",
      "source": [
        "from imblearn.over_sampling import SMOTE # Sử dụng SMOTE để tăng hoặc giảm lượng dữ liệu giữa hai lớp cho phù hợp\n",
        "from imblearn.under_sampling import RandomUnderSampler\n",
        "from imblearn.pipeline import Pipeline as imbPipeline # Xây dựng Pipeline\n",
        "from tensorflow.keras.layers import Normalization # Chuẩn hoá dữ liệu về cùng một khoảng để tránh sự chênh lệch"
      ],
      "metadata": {
        "id": "7XY_yi0Hh_4u"
      },
      "execution_count": 17,
      "outputs": []
    },
    {
      "cell_type": "code",
      "source": [
        "np.random.seed(42)"
      ],
      "metadata": {
        "id": "ARVBWWh2lCok"
      },
      "execution_count": 18,
      "outputs": []
    },
    {
      "cell_type": "code",
      "source": [
        "oversampler = SMOTE(sampling_strategy=0.2)\n",
        "undersampler = RandomUnderSampler(sampling_strategy=0.3)\n",
        "\n",
        "steps = [('oversample', oversampler), ('undersample', undersampler)]\n",
        "samplePipe = imbPipeline(steps=steps)\n",
        "\n",
        "preprocessing = Normalization(axis=-1)\n",
        ""
      ],
      "metadata": {
        "id": "yk4Ih2bAlDtk"
      },
      "execution_count": 19,
      "outputs": []
    },
    {
      "cell_type": "code",
      "source": [
        "X, y = df[df.columns.drop('Class')], df['Class']\n",
        "X = X.to_numpy() if isinstance(X, pd.DataFrame) else np.array(X)\n",
        "\n",
        "preprocessing.adapt(X)\n",
        "X = pd.DataFrame(preprocessing(X), columns=[df[df.columns.drop('Class')].columns.values])\n",
        "\n",
        "X_train, X_testValid, y_train, y_testValid = train_test_split(X, y, test_size=0.2)\n",
        "X_test, X_valid, y_test, y_valid = train_test_split(X_testValid, y_testValid, test_size=0.5)\n",
        "\n",
        "X_train, y_train = samplePipe.fit_resample(X_train, y_train)\n",
        ""
      ],
      "metadata": {
        "id": "_ANLMfN-lU0R"
      },
      "execution_count": 20,
      "outputs": []
    },
    {
      "cell_type": "markdown",
      "source": [
        "# Sequence Model"
      ],
      "metadata": {
        "id": "uIuZLmEEBQP_"
      }
    },
    {
      "cell_type": "code",
      "source": [
        "controlModel = keras.models.Sequential([\n",
        "    tf.keras.layers.InputLayer((30,)),\n",
        "    tf.keras.layers.Dense(360, activation='relu'),\n",
        "    tf.keras.layers.Dense(720, activation='relu'),\n",
        "    tf.keras.layers.Dense(360, activation=\"relu\"),\n",
        "    tf.keras.layers.Dense(120, activation=\"relu\"),\n",
        "    tf.keras.layers.Dense(60, activation=\"relu\"),\n",
        "    tf.keras.layers.Dense(30, activation=\"relu\"),\n",
        "    tf.keras.layers.Dense(2, activation=\"sigmoid\")\n",
        "])\n",
        "\n",
        "controlModel.compile(optimizer=tf.keras.optimizers.Adam(learning_rate=0.02), loss=\"sparse_categorical_crossentropy\", metrics=['sparse_categorical_accuracy'])"
      ],
      "metadata": {
        "id": "aO5TduO3rPAk"
      },
      "execution_count": 42,
      "outputs": []
    },
    {
      "cell_type": "code",
      "source": [
        "controlHistory = controlModel.fit(X_train, y_train, epochs=15, batch_size=64000, validation_data=(X_valid, y_valid))"
      ],
      "metadata": {
        "colab": {
          "base_uri": "https://localhost:8080/"
        },
        "id": "OsLBhkxzr2xh",
        "outputId": "babac2d7-11fe-4248-b87f-77a80d8b0d82"
      },
      "execution_count": 43,
      "outputs": [
        {
          "output_type": "stream",
          "name": "stdout",
          "text": [
            "Epoch 1/15\n",
            "\u001b[1m4/4\u001b[0m \u001b[32m━━━━━━━━━━━━━━━━━━━━\u001b[0m\u001b[37m\u001b[0m \u001b[1m26s\u001b[0m 5s/step - loss: 9.6250 - sparse_categorical_accuracy: 0.3907 - val_loss: 0.6235 - val_sparse_categorical_accuracy: 0.9988\n",
            "Epoch 2/15\n",
            "\u001b[1m4/4\u001b[0m \u001b[32m━━━━━━━━━━━━━━━━━━━━\u001b[0m\u001b[37m\u001b[0m \u001b[1m34s\u001b[0m 4s/step - loss: 0.5953 - sparse_categorical_accuracy: 0.8824 - val_loss: 0.2545 - val_sparse_categorical_accuracy: 0.9992\n",
            "Epoch 3/15\n",
            "\u001b[1m4/4\u001b[0m \u001b[32m━━━━━━━━━━━━━━━━━━━━\u001b[0m\u001b[37m\u001b[0m \u001b[1m21s\u001b[0m 3s/step - loss: 0.2660 - sparse_categorical_accuracy: 0.9470 - val_loss: 0.0665 - val_sparse_categorical_accuracy: 0.9803\n",
            "Epoch 4/15\n",
            "\u001b[1m4/4\u001b[0m \u001b[32m━━━━━━━━━━━━━━━━━━━━\u001b[0m\u001b[37m\u001b[0m \u001b[1m20s\u001b[0m 4s/step - loss: 0.1331 - sparse_categorical_accuracy: 0.9689 - val_loss: 0.0428 - val_sparse_categorical_accuracy: 0.9906\n",
            "Epoch 5/15\n",
            "\u001b[1m4/4\u001b[0m \u001b[32m━━━━━━━━━━━━━━━━━━━━\u001b[0m\u001b[37m\u001b[0m \u001b[1m21s\u001b[0m 3s/step - loss: 0.0871 - sparse_categorical_accuracy: 0.9750 - val_loss: 0.0526 - val_sparse_categorical_accuracy: 0.9904\n",
            "Epoch 6/15\n",
            "\u001b[1m4/4\u001b[0m \u001b[32m━━━━━━━━━━━━━━━━━━━━\u001b[0m\u001b[37m\u001b[0m \u001b[1m20s\u001b[0m 4s/step - loss: 0.0684 - sparse_categorical_accuracy: 0.9811 - val_loss: 0.0345 - val_sparse_categorical_accuracy: 0.9931\n",
            "Epoch 7/15\n",
            "\u001b[1m4/4\u001b[0m \u001b[32m━━━━━━━━━━━━━━━━━━━━\u001b[0m\u001b[37m\u001b[0m \u001b[1m21s\u001b[0m 3s/step - loss: 0.0481 - sparse_categorical_accuracy: 0.9859 - val_loss: 0.0192 - val_sparse_categorical_accuracy: 0.9946\n",
            "Epoch 8/15\n",
            "\u001b[1m4/4\u001b[0m \u001b[32m━━━━━━━━━━━━━━━━━━━━\u001b[0m\u001b[37m\u001b[0m \u001b[1m20s\u001b[0m 4s/step - loss: 0.0312 - sparse_categorical_accuracy: 0.9894 - val_loss: 0.0211 - val_sparse_categorical_accuracy: 0.9919\n",
            "Epoch 9/15\n",
            "\u001b[1m4/4\u001b[0m \u001b[32m━━━━━━━━━━━━━━━━━━━━\u001b[0m\u001b[37m\u001b[0m \u001b[1m15s\u001b[0m 4s/step - loss: 0.0226 - sparse_categorical_accuracy: 0.9918 - val_loss: 0.0146 - val_sparse_categorical_accuracy: 0.9958\n",
            "Epoch 10/15\n",
            "\u001b[1m4/4\u001b[0m \u001b[32m━━━━━━━━━━━━━━━━━━━━\u001b[0m\u001b[37m\u001b[0m \u001b[1m21s\u001b[0m 4s/step - loss: 0.0154 - sparse_categorical_accuracy: 0.9954 - val_loss: 0.0115 - val_sparse_categorical_accuracy: 0.9973\n",
            "Epoch 11/15\n",
            "\u001b[1m4/4\u001b[0m \u001b[32m━━━━━━━━━━━━━━━━━━━━\u001b[0m\u001b[37m\u001b[0m \u001b[1m20s\u001b[0m 3s/step - loss: 0.0113 - sparse_categorical_accuracy: 0.9967 - val_loss: 0.0123 - val_sparse_categorical_accuracy: 0.9971\n",
            "Epoch 12/15\n",
            "\u001b[1m4/4\u001b[0m \u001b[32m━━━━━━━━━━━━━━━━━━━━\u001b[0m\u001b[37m\u001b[0m \u001b[1m15s\u001b[0m 3s/step - loss: 0.0088 - sparse_categorical_accuracy: 0.9975 - val_loss: 0.0121 - val_sparse_categorical_accuracy: 0.9982\n",
            "Epoch 13/15\n",
            "\u001b[1m4/4\u001b[0m \u001b[32m━━━━━━━━━━━━━━━━━━━━\u001b[0m\u001b[37m\u001b[0m \u001b[1m16s\u001b[0m 3s/step - loss: 0.0085 - sparse_categorical_accuracy: 0.9981 - val_loss: 0.0111 - val_sparse_categorical_accuracy: 0.9987\n",
            "Epoch 14/15\n",
            "\u001b[1m4/4\u001b[0m \u001b[32m━━━━━━━━━━━━━━━━━━━━\u001b[0m\u001b[37m\u001b[0m \u001b[1m16s\u001b[0m 4s/step - loss: 0.0109 - sparse_categorical_accuracy: 0.9982 - val_loss: 0.0110 - val_sparse_categorical_accuracy: 0.9980\n",
            "Epoch 15/15\n",
            "\u001b[1m4/4\u001b[0m \u001b[32m━━━━━━━━━━━━━━━━━━━━\u001b[0m\u001b[37m\u001b[0m \u001b[1m20s\u001b[0m 4s/step - loss: 0.0066 - sparse_categorical_accuracy: 0.9986 - val_loss: 0.0129 - val_sparse_categorical_accuracy: 0.9974\n"
          ]
        }
      ]
    },
    {
      "cell_type": "code",
      "source": [
        "pd.DataFrame(controlHistory.history)[['loss','val_loss']].plot(figsize=(8,5))"
      ],
      "metadata": {
        "colab": {
          "base_uri": "https://localhost:8080/",
          "height": 462
        },
        "id": "zZTyDaVlsMBJ",
        "outputId": "2b7dc5f8-1a46-4ad1-d530-ee11a91f7829"
      },
      "execution_count": 44,
      "outputs": [
        {
          "output_type": "execute_result",
          "data": {
            "text/plain": [
              "<Axes: >"
            ]
          },
          "metadata": {},
          "execution_count": 44
        },
        {
          "output_type": "display_data",
          "data": {
            "text/plain": [
              "<Figure size 800x500 with 1 Axes>"
            ],
            "image/png": "[encoded data removed]"
          },
          "metadata": {}
        }
      ]
    },
    {
      "cell_type": "code",
      "source": [
        "controlModel.evaluate(X_test, y_test)"
      ],
      "metadata": {
        "colab": {
          "base_uri": "https://localhost:8080/"
        },
        "id": "THt5R5-RsVOs",
        "outputId": "409dc0ae-4d77-423c-a29f-d1fa75103b4e"
      },
      "execution_count": 45,
      "outputs": [
        {
          "output_type": "stream",
          "name": "stdout",
          "text": [
            "\u001b[1m891/891\u001b[0m \u001b[32m━━━━━━━━━━━━━━━━━━━━\u001b[0m\u001b[37m\u001b[0m \u001b[1m3s\u001b[0m 4ms/step - loss: 0.0086 - sparse_categorical_accuracy: 0.9977\n"
          ]
        },
        {
          "output_type": "execute_result",
          "data": {
            "text/plain": [
              "[0.010613965801894665, 0.9975773096084595]"
            ]
          },
          "metadata": {},
          "execution_count": 45
        }
      ]
    },
    {
      "cell_type": "code",
      "source": [
        "predictions = controlModel.predict(X_test)\n",
        "y_pred = np.argmax(predictions, axis=-1)"
      ],
      "metadata": {
        "colab": {
          "base_uri": "https://localhost:8080/"
        },
        "id": "82LMIBZSsYNw",
        "outputId": "33bef5af-eba0-44b2-c435-0b3e8fccf044"
      },
      "execution_count": 46,
      "outputs": [
        {
          "output_type": "stream",
          "name": "stdout",
          "text": [
            "\u001b[1m891/891\u001b[0m \u001b[32m━━━━━━━━━━━━━━━━━━━━\u001b[0m\u001b[37m\u001b[0m \u001b[1m3s\u001b[0m 3ms/step\n"
          ]
        }
      ]
    },
    {
      "cell_type": "code",
      "source": [
        "f1_score(y_pred, y_test)"
      ],
      "metadata": {
        "colab": {
          "base_uri": "https://localhost:8080/"
        },
        "id": "4HHqgbgBsatS",
        "outputId": "48b313e1-0b0f-4846-9011-9a7ede437346"
      },
      "execution_count": 47,
      "outputs": [
        {
          "output_type": "execute_result",
          "data": {
            "text/plain": [
              "0.5454545454545454"
            ]
          },
          "metadata": {},
          "execution_count": 47
        }
      ]
    },
    {
      "cell_type": "code",
      "source": [
        "confusionMatrix = confusion_matrix(y_true=y_test, y_pred=y_pred)\n",
        "displayConfusionMatrix = ConfusionMatrixDisplay(confusionMatrix)\n",
        "displayConfusionMatrix.plot()"
      ],
      "metadata": {
        "colab": {
          "base_uri": "https://localhost:8080/",
          "height": 466
        },
        "id": "OYLtRMTSscQQ",
        "outputId": "88b193c4-b115-4a18-e354-1da8cd7ed4fc"
      },
      "execution_count": 48,
      "outputs": [
        {
          "output_type": "execute_result",
          "data": {
            "text/plain": [
              "<sklearn.metrics._plot.confusion_matrix.ConfusionMatrixDisplay at 0x788e04d16690>"
            ]
          },
          "metadata": {},
          "execution_count": 48
        },
        {
          "output_type": "display_data",
          "data": {
            "text/plain": [
              "<Figure size 640x480 with 2 Axes>"
            ],
            "image/png": "[encoded data removed]"
          },
          "metadata": {}
        }
      ]
    },
    {
      "cell_type": "markdown",
      "source": [
        "# Tabular Transformer Model"
      ],
      "metadata": {
        "id": "GmUO3H_-txBQ"
      }
    },
    {
      "cell_type": "code",
      "source": [
        "!pip install tabtransformertf -q\n",
        "\n",
        "from tabtransformertf.models.fttransformer  import FTTransformerEncoder, FTTransformer\n",
        "from tabtransformertf.utils.preprocessing import df_to_dataset"
      ],
      "metadata": {
        "id": "6T_hTOGmEJia"
      },
      "execution_count": 36,
      "outputs": []
    },
    {
      "cell_type": "code",
      "source": [
        "numericFeatures = list(df[df.columns.drop('Class')].columns.values)\n",
        "categoricalFeatures = []"
      ],
      "metadata": {
        "id": "ndMFbZ5BCGoF"
      },
      "execution_count": 61,
      "outputs": []
    },
    {
      "cell_type": "code",
      "source": [
        "import pandas as pd\n",
        "import tensorflow as tf\n",
        "\n",
        "\n",
        "def df_to_dataset_custom(dataframe, label_column=None, shuffle=True, batch_size=32):\n",
        "    dataframe = dataframe.copy()\n",
        "\n",
        "    if label_column is not None:\n",
        "        labels = dataframe.pop(label_column).to_numpy()\n",
        "    else:\n",
        "        labels = None\n",
        "\n",
        "    # Reshape lại từng feature thành (batch_size, 1)\n",
        "    features = {col: dataframe[col].to_numpy().reshape(-1, 1) for col in dataframe.columns}\n",
        "\n",
        "    ds = tf.data.Dataset.from_tensor_slices((features, labels) if labels is not None else features)\n",
        "    if shuffle:\n",
        "        ds = ds.shuffle(buffer_size=len(dataframe))\n",
        "    return ds.batch(batch_size)\n",
        "\n",
        "# Đảm bảo Series y có tên là 'Class'\n",
        "y_train = pd.Series(y_train, name='Class')\n",
        "y_valid = pd.Series(y_valid, name='Class')\n",
        "y_test = pd.Series(y_test, name='Class')\n",
        "\n",
        "# Ghép X và y thành DataFrame\n",
        "trainDF = pd.concat([X_train, y_train], axis=1)\n",
        "validDF = pd.concat([X_valid, y_valid], axis=1)\n",
        "testDF = pd.concat([X_test, y_test], axis=1)\n",
        "\n",
        "# Loại bỏ tuple trong tên cột (nếu có)\n",
        "for df in [trainDF, validDF, testDF]:\n",
        "    df.columns = [col[0] if isinstance(col, tuple) else col for col in df.columns]\n",
        "\n",
        "# Loại bỏ các dòng có giá trị Class là 'Class' (header lặp lại)\n",
        "for name, df in [('trainDF', trainDF), ('validDF', validDF), ('testDF', testDF)]:\n",
        "    mask = (df['Class'].astype(str) != 'Class') & (df['Class'].notna())\n",
        "    df_clean = df[mask].reset_index(drop=True)\n",
        "    if name == 'trainDF':\n",
        "        trainDF = df_clean\n",
        "    elif name == 'validDF':\n",
        "        validDF = df_clean\n",
        "    else:\n",
        "        testDF = df_clean\n",
        "\n",
        "# Ép kiểu cho cột label\n",
        "label_column = 'Class'\n",
        "trainDF[label_column] = trainDF[label_column].astype('int64')\n",
        "validDF[label_column] = validDF[label_column].astype('int64')\n",
        "testDF[label_column] = testDF[label_column].astype('int64')\n",
        "\n",
        "# Ép kiểu float32 cho các cột đặc trưng\n",
        "for df in [trainDF, validDF, testDF]:\n",
        "    for col in df.columns:\n",
        "        if col != label_column:\n",
        "            df[col] = pd.to_numeric(df[col], errors='coerce')\n",
        "            df[col] = df[col].astype('float32')\n",
        "\n",
        "# Loại bỏ tuple trong danh sách cột nếu có\n",
        "numericFeatures = [col[0] if isinstance(col, tuple) else col for col in numericFeatures]\n",
        "categoricalFeatures = [col[0] if isinstance(col, tuple) else col for col in categoricalFeatures]\n",
        "\n",
        "# Tạo TensorFlow Dataset\n",
        "train_dataset = df_to_dataset_custom(trainDF, label_column=label_column, shuffle=False, batch_size=512)\n",
        "val_dataset = df_to_dataset_custom(validDF, label_column=label_column, shuffle=False, batch_size=512)\n",
        "test_dataset = df_to_dataset_custom(testDF.drop(columns=[label_column]), shuffle=False, batch_size=512)\n"
      ],
      "metadata": {
        "id": "VGNSKCZmt6f-"
      },
      "execution_count": 62,
      "outputs": []
    },
    {
      "cell_type": "code",
      "source": [
        "# Khởi tạo Encoder\n",
        "FTencoder = FTTransformerEncoder(\n",
        "    numerical_features = numericFeatures,\n",
        "    categorical_features = categoricalFeatures,\n",
        "    numerical_data = trainDF[numericFeatures].values,\n",
        "    categorical_data = None,\n",
        "    y = trainDF[label_column].values,\n",
        "    numerical_embedding_type='linear',\n",
        "    embedding_dim=32,\n",
        "    depth=2,\n",
        "    heads=15,\n",
        "    attn_dropout=0.1,\n",
        "    ff_dropout=0.1,\n",
        "    explainable=False\n",
        ")\n",
        "\n",
        "# Khởi tạo mô hình Transformer\n",
        "tabTransformerModel = FTTransformer(\n",
        "    encoder = FTencoder,\n",
        "    out_dim = 1,\n",
        "    out_activation = \"sigmoid\"\n",
        ")\n",
        "\n",
        "# Compile mô hình\n",
        "tabTransformerModel.compile(\n",
        "    optimizer=tf.keras.optimizers.Adam(learning_rate=0.02),\n",
        "    loss = tf.keras.losses.BinaryCrossentropy(),\n",
        "    metrics=['sparse_categorical_accuracy']\n",
        ")"
      ],
      "metadata": {
        "id": "EnTjFZyc3Wyx"
      },
      "execution_count": 63,
      "outputs": []
    },
    {
      "cell_type": "code",
      "source": [
        "tabTransformerHistory = tabTransformerModel.fit(train_dataset, validation_data=val_dataset, epochs=5)"
      ],
      "metadata": {
        "colab": {
          "base_uri": "https://localhost:8080/"
        },
        "id": "b3h2v48C-VJo",
        "outputId": "bca6477b-8982-49a8-886a-2b57143b07ee"
      },
      "execution_count": 64,
      "outputs": [
        {
          "output_type": "stream",
          "name": "stdout",
          "text": [
            "Epoch 1/5\n",
            "\u001b[1m386/386\u001b[0m \u001b[32m━━━━━━━━━━━━━━━━━━━━\u001b[0m\u001b[37m\u001b[0m \u001b[1m32s\u001b[0m 54ms/step - loss: 0.0422 - sparse_categorical_accuracy: 0.9697 - val_loss: 23.9027 - val_sparse_categorical_accuracy: 0.9982\n",
            "Epoch 2/5\n",
            "\u001b[1m386/386\u001b[0m \u001b[32m━━━━━━━━━━━━━━━━━━━━\u001b[0m\u001b[37m\u001b[0m \u001b[1m17s\u001b[0m 44ms/step - loss: 0.6988 - sparse_categorical_accuracy: 0.9697 - val_loss: 36.4414 - val_sparse_categorical_accuracy: 0.9982\n",
            "Epoch 3/5\n",
            "\u001b[1m386/386\u001b[0m \u001b[32m━━━━━━━━━━━━━━━━━━━━\u001b[0m\u001b[37m\u001b[0m \u001b[1m16s\u001b[0m 41ms/step - loss: 0.7433 - sparse_categorical_accuracy: 0.9697 - val_loss: 13.0430 - val_sparse_categorical_accuracy: 0.9982\n",
            "Epoch 4/5\n",
            "\u001b[1m386/386\u001b[0m \u001b[32m━━━━━━━━━━━━━━━━━━━━\u001b[0m\u001b[37m\u001b[0m \u001b[1m16s\u001b[0m 40ms/step - loss: 0.8035 - sparse_categorical_accuracy: 0.9697 - val_loss: 1.3766 - val_sparse_categorical_accuracy: 0.9982\n",
            "Epoch 5/5\n",
            "\u001b[1m386/386\u001b[0m \u001b[32m━━━━━━━━━━━━━━━━━━━━\u001b[0m\u001b[37m\u001b[0m \u001b[1m21s\u001b[0m 41ms/step - loss: 0.5774 - sparse_categorical_accuracy: 0.9697 - val_loss: 1.0998 - val_sparse_categorical_accuracy: 0.9982\n"
          ]
        }
      ]
    },
    {
      "cell_type": "code",
      "source": [
        "pd.DataFrame(tabTransformerHistory.history)[['loss','val_loss']].plot(figsize=(8,5))"
      ],
      "metadata": {
        "colab": {
          "base_uri": "https://localhost:8080/",
          "height": 462
        },
        "id": "JOQ9dXMEE0NR",
        "outputId": "7642d0b6-5330-4ebc-e0be-e67ec347b388"
      },
      "execution_count": 65,
      "outputs": [
        {
          "output_type": "execute_result",
          "data": {
            "text/plain": [
              "<Axes: >"
            ]
          },
          "metadata": {},
          "execution_count": 65
        },
        {
          "output_type": "display_data",
          "data": {
            "text/plain": [
              "<Figure size 800x500 with 1 Axes>"
            ],
            "image/png": "[encoded data removed]"
          },
          "metadata": {}
        }
      ]
    },
    {
      "cell_type": "code",
      "source": [
        "tabPredictions = tabTransformerModel.predict(test_dataset)"
      ],
      "metadata": {
        "colab": {
          "base_uri": "https://localhost:8080/"
        },
        "id": "RaBNUnCdE13o",
        "outputId": "b3a2a32e-fb87-4c26-8e51-285bf2f75ee6"
      },
      "execution_count": 66,
      "outputs": [
        {
          "output_type": "stream",
          "name": "stdout",
          "text": [
            "\u001b[1m56/56\u001b[0m \u001b[32m━━━━━━━━━━━━━━━━━━━━\u001b[0m\u001b[37m\u001b[0m \u001b[1m3s\u001b[0m 33ms/step\n"
          ]
        }
      ]
    },
    {
      "cell_type": "code",
      "source": [
        "tab_y_pred = [int(round(x[0])) for x in tabPredictions]"
      ],
      "metadata": {
        "id": "86ZqDTh2E26g"
      },
      "execution_count": 67,
      "outputs": []
    },
    {
      "cell_type": "code",
      "source": [
        "f1_score(tab_y_pred, y_test)"
      ],
      "metadata": {
        "colab": {
          "base_uri": "https://localhost:8080/"
        },
        "id": "sk8pubjoE5CT",
        "outputId": "ae626e86-0ccb-4a19-cd56-445964772dbe"
      },
      "execution_count": 68,
      "outputs": [
        {
          "output_type": "execute_result",
          "data": {
            "text/plain": [
              "0.003295008412787437"
            ]
          },
          "metadata": {},
          "execution_count": 68
        }
      ]
    },
    {
      "cell_type": "code",
      "source": [
        "confusionMatrix = confusion_matrix(y_true=y_test, y_pred=tab_y_pred)\n",
        "displayConfusionMatrix = ConfusionMatrixDisplay(confusionMatrix)\n",
        "displayConfusionMatrix.plot()"
      ],
      "metadata": {
        "colab": {
          "base_uri": "https://localhost:8080/",
          "height": 466
        },
        "id": "7up0jvkzE8CS",
        "outputId": "39c9aaad-a342-4cac-ee96-e19b70b04870"
      },
      "execution_count": 69,
      "outputs": [
        {
          "output_type": "execute_result",
          "data": {
            "text/plain": [
              "<sklearn.metrics._plot.confusion_matrix.ConfusionMatrixDisplay at 0x7cae11612b50>"
            ]
          },
          "metadata": {},
          "execution_count": 69
        },
        {
          "output_type": "display_data",
          "data": {
            "text/plain": [
              "<Figure size 640x480 with 2 Axes>"
            ],
            "image/png": "[encoded data removed]"
          },
          "metadata": {}
        }
      ]
    },
    {
      "cell_type": "code",
      "source": [
        "periodicEncoder = FTTransformerEncoder(\n",
        "    numerical_features = numericFeatures,\n",
        "    categorical_features = categoricalFeatures,\n",
        "    numerical_data = trainDF[numericFeatures].values,\n",
        "    categorical_data = None,\n",
        "    y = y_train.values,\n",
        "    numerical_embedding_type='periodic',\n",
        "    numerical_bins=128,\n",
        "    embedding_dim=64,\n",
        "    depth=3,\n",
        "    heads=6,\n",
        "    attn_dropout=0.3,\n",
        "    ff_dropout=0.3,\n",
        "    explainable=False\n",
        ")\n",
        "\n",
        "# Pass th encoder to the model\n",
        "periodicTabTransformerModel = FTTransformer(\n",
        "    encoder=periodicEncoder,\n",
        "    out_dim=1,\n",
        "    out_activation=\"sigmoid\",\n",
        ")\n",
        "\n",
        "periodicTabTransformerModel.compile(  # compile with same hyperparameters\n",
        "    optimizer=tf.keras.optimizers.Adam(learning_rate=0.02),\n",
        "    loss = tf.keras.losses.BinaryCrossentropy(),\n",
        "    metrics=['sparse_categorical_accuracy']\n",
        "    )"
      ],
      "metadata": {
        "id": "J7pg2Ta8pgxg"
      },
      "execution_count": 70,
      "outputs": []
    },
    {
      "cell_type": "code",
      "source": [
        "periodicTabTransformerHistory = periodicTabTransformerModel.fit(train_dataset, validation_data=val_dataset, epochs=5)"
      ],
      "metadata": {
        "colab": {
          "base_uri": "https://localhost:8080/"
        },
        "id": "4bzd45E1pj29",
        "outputId": "68a3b2fe-466e-47e9-d7db-c8185d98a36c"
      },
      "execution_count": 71,
      "outputs": [
        {
          "output_type": "stream",
          "name": "stdout",
          "text": [
            "Epoch 1/5\n",
            "\u001b[1m386/386\u001b[0m \u001b[32m━━━━━━━━━━━━━━━━━━━━\u001b[0m\u001b[37m\u001b[0m \u001b[1m40s\u001b[0m 63ms/step - loss: 0.0231 - sparse_categorical_accuracy: 0.9697 - val_loss: 57.2899 - val_sparse_categorical_accuracy: 0.9982\n",
            "Epoch 2/5\n",
            "\u001b[1m386/386\u001b[0m \u001b[32m━━━━━━━━━━━━━━━━━━━━\u001b[0m\u001b[37m\u001b[0m \u001b[1m18s\u001b[0m 47ms/step - loss: 1.8450 - sparse_categorical_accuracy: 0.9697 - val_loss: 46.7386 - val_sparse_categorical_accuracy: 0.9982\n",
            "Epoch 3/5\n",
            "\u001b[1m386/386\u001b[0m \u001b[32m━━━━━━━━━━━━━━━━━━━━\u001b[0m\u001b[37m\u001b[0m \u001b[1m18s\u001b[0m 45ms/step - loss: 1.3507 - sparse_categorical_accuracy: 0.9697 - val_loss: 5.9692 - val_sparse_categorical_accuracy: 0.9982\n",
            "Epoch 4/5\n",
            "\u001b[1m386/386\u001b[0m \u001b[32m━━━━━━━━━━━━━━━━━━━━\u001b[0m\u001b[37m\u001b[0m \u001b[1m17s\u001b[0m 44ms/step - loss: 0.8306 - sparse_categorical_accuracy: 0.9697 - val_loss: 1.1949 - val_sparse_categorical_accuracy: 0.9982\n",
            "Epoch 5/5\n",
            "\u001b[1m386/386\u001b[0m \u001b[32m━━━━━━━━━━━━━━━━━━━━\u001b[0m\u001b[37m\u001b[0m \u001b[1m20s\u001b[0m 44ms/step - loss: 0.5486 - sparse_categorical_accuracy: 0.9697 - val_loss: 1.0274 - val_sparse_categorical_accuracy: 0.9982\n"
          ]
        }
      ]
    },
    {
      "cell_type": "code",
      "source": [
        "pd.DataFrame(periodicTabTransformerHistory.history)[['loss','val_loss']].plot(figsize=(8,5))"
      ],
      "metadata": {
        "colab": {
          "base_uri": "https://localhost:8080/",
          "height": 467
        },
        "id": "tY_MQzh8qAii",
        "outputId": "7f93ec9e-e54d-4859-bd6b-aa8b5e709975"
      },
      "execution_count": 72,
      "outputs": [
        {
          "output_type": "execute_result",
          "data": {
            "text/plain": [
              "<Axes: >"
            ]
          },
          "metadata": {},
          "execution_count": 72
        },
        {
          "output_type": "display_data",
          "data": {
            "text/plain": [
              "<Figure size 800x500 with 1 Axes>"
            ],
            "image/png": "[encoded data removed]"
          },
          "metadata": {}
        }
      ]
    },
    {
      "cell_type": "code",
      "source": [
        "periodicPredictions = periodicTabTransformerModel.predict(test_dataset)\n",
        "per_y_pred = [int(round(x[0])) for x in tabPredictions]\n",
        "\n",
        "f1_score(per_y_pred, y_test)"
      ],
      "metadata": {
        "colab": {
          "base_uri": "https://localhost:8080/"
        },
        "id": "LLnNhcC1qCCG",
        "outputId": "e34a0609-9216-4a87-c318-51fd92888a01"
      },
      "execution_count": 73,
      "outputs": [
        {
          "output_type": "stream",
          "name": "stdout",
          "text": [
            "\u001b[1m56/56\u001b[0m \u001b[32m━━━━━━━━━━━━━━━━━━━━\u001b[0m\u001b[37m\u001b[0m \u001b[1m4s\u001b[0m 48ms/step\n"
          ]
        },
        {
          "output_type": "execute_result",
          "data": {
            "text/plain": [
              "0.003295008412787437"
            ]
          },
          "metadata": {},
          "execution_count": 73
        }
      ]
    },
    {
      "cell_type": "code",
      "source": [
        "confusionMatrix = confusion_matrix(y_true=y_test, y_pred=per_y_pred)\n",
        "displayConfusionMatrix = ConfusionMatrixDisplay(confusionMatrix)\n",
        "displayConfusionMatrix.plot()"
      ],
      "metadata": {
        "colab": {
          "base_uri": "https://localhost:8080/",
          "height": 466
        },
        "id": "zhfOPaHFqDoX",
        "outputId": "800187fd-d638-4d0b-fc6f-948ee0fde7e2"
      },
      "execution_count": 74,
      "outputs": [
        {
          "output_type": "execute_result",
          "data": {
            "text/plain": [
              "<sklearn.metrics._plot.confusion_matrix.ConfusionMatrixDisplay at 0x7cae0add4890>"
            ]
          },
          "metadata": {},
          "execution_count": 74
        },
        {
          "output_type": "display_data",
          "data": {
            "text/plain": [
              "<Figure size 640x480 with 2 Axes>"
            ],
            "image/png": "[encoded data removed]"
          },
          "metadata": {}
        }
      ]
    }
  ]
}